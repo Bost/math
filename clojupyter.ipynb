{
 "cells": [
  {
   "cell_type": "markdown",
   "metadata": {
    "jupyter": {
     "source_hidden": true
    }
   },
   "source": [
    "Tai-Danae Bradley https://www.math3ma.com/categories/category-theory\n",
    "\n",
    "# Category theory - an abstract algebra of abstract functions\n",
    "\"The Arrows Count\"; Category $C = (Obj, Hom, ◦, id)$  \n",
    "Category theory as a foundational framework of mathematics: the foundations of\n",
    "category theory itself have to be clarified yet\n",
    "- $Obj$ : Class of Objects: A, B, C, ... e.g. Types / Propositions /\n",
    "  Algebras / Logic Formulas  \n",
    "  An object exists in and depends upon an ambient category.  \n",
    "  An object is characterized by its morphisms going in and out of it.  \n",
    "  Objects are always characterized up to isomorphism (in the best cases, up to  \n",
    "  a unique isomorphism). E.g. there is no such thing as _the_ natural numbers.\n",
    "  However, the concept of natural numbers exists.  \n",
    "- $Hom$ : Morphisms (arrows): f, g, h, ... e.g. Computation / Proofs / ??? /\n",
    "  Implication between Logic Formulas\n",
    "- $◦$ : Morphism composition - associative function $(f ◦ g) ◦ h = f ◦ (g ◦ h)$  \n",
    "$Hom(A, B) × Hom(B, C) → Hom(A, C): g ◦ f$ ; it's a partialy binary\n",
    "operation on Mor(CAT::)  \n",
    "$(g ◦ f)(x) = g(f(x))$\n",
    "- $id$ : identity morphism on every object $A: id(A)$"
   ]
  },
  {
   "cell_type": "code",
   "execution_count": 12,
   "metadata": {},
   "outputs": [
    {
     "data": {
      "text/plain": [
       "3"
      ]
     },
     "execution_count": 12,
     "metadata": {},
     "output_type": "execute_result"
    }
   ],
   "source": [
    ";; test clojure\n",
    "(+ 1 2)"
   ]
  },
  {
   "cell_type": "code",
   "execution_count": 1,
   "metadata": {},
   "outputs": [
    {
     "data": {
      "text/plain": [
       "(true)"
      ]
     },
     "execution_count": 1,
     "metadata": {},
     "output_type": "execute_result"
    }
   ],
   "source": [
    ";; test clojure and logic\n",
    "(l/run* [q]\n",
    "  (l/== q true))"
   ]
  },
  {
   "cell_type": "code",
   "execution_count": 11,
   "metadata": {},
   "outputs": [
    {
     "name": "stderr",
     "output_type": "stream",
     "text": [
      "Syntax error compiling at (REPL:13:1).\n",
      "Unable to resolve symbol: fmap in this context\n"
     ]
    },
    {
     "ename": "class clojure.lang.Compiler$CompilerException",
     "evalue": "",
     "execution_count": 11,
     "output_type": "error",
     "status": "error",
     "traceback": [
      "  Util.java:   221 clojure.lang.Util/runtimeException                   ",
      "   core.clj:  3214 clojure.core$eval/invokeStatic                       ",
      "   core.clj:  3210 clojure.core$eval/invoke                             ",
      "   main.clj:   437 clojure.main$repl$read_eval_print__606$fn__609/invoke",
      "   main.clj:   458 clojure.main$repl$fn__615/invoke                     ",
      "   main.clj:   368 clojure.main$repl/doInvoke                           ",
      "RestFn.java:  1523 clojure.lang.RestFn/invoke                           ",
      "   AFn.java:    22 clojure.lang.AFn/run                                 ",
      "   AFn.java:    22 clojure.lang.AFn/run                                 ",
      "Thread.java:   745 java.lang.Thread/run                                 "
     ]
    }
   ],
   "source": [
    ";; (go elems)\n",
    ";; elems\n",
    "\n",
    "(display/hiccup-html\n",
    " [:svg (conj {:xmlns \"http://www.w3.org/2000/svg\"}\n",
    "             #_{:viewBox \"-50 -100 200 200\"}\n",
    "             {:height 200 :width 200}\n",
    "             {:transform \"translate(100 100)\"}\n",
    "             )\n",
    "  dot-x])\n",
    "\n",
    "(def dot-radius 4)\n",
    "(fmap (fn [val] (+ val dot-radius)) x)\n",
    "x\n"
   ]
  }
 ],
 "metadata": {
  "kernelspec": {
   "display_name": "Clojure (clojupyter-logic)",
   "language": "clojure",
   "name": "clojupyter-logic"
  },
  "language_info": {
   "file_extension": ".clj",
   "mimetype": "text/x-clojure",
   "name": "clojure",
   "version": "1.10.1"
  }
 },
 "nbformat": 4,
 "nbformat_minor": 4
}
