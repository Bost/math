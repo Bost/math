{
 "cells": [
  {
   "cell_type": "code",
   "execution_count": 42,
   "metadata": {},
   "outputs": [
    {
     "data": {
      "text/plain": [
       "#'user/go"
      ]
     },
     "execution_count": 42,
     "metadata": {},
     "output_type": "execute_result"
    }
   ],
   "source": [
    "(load-file \"foo.clj\")"
   ]
  },
  {
   "cell_type": "code",
   "execution_count": 43,
   "metadata": {},
   "outputs": [
    {
     "data": {
      "text/html": [
       "<svg height=\"200\" transform=\"translate(0 100)\" width=\"200\" xmlns=\"http://www.w3.org/2000/svg\"><defs><marker id=\"head\" markerHeight=\"4\" markerWidth=\"2\" orient=\"auto\" refX=\"0.1\" refY=\"2\"><path d=\"M0,0 V4 L2,2 Z\" fill=\"black\"></path></marker></defs><path d=\"M 10 10 C 20 20, 40 20, 50 10\" fill=\"transparent\" marker-end=\"url(#head)\" stroke=\"black\"></path><path d=\"M 70 10 C 70 20, 120 20, 120 10\" fill=\"transparent\" marker-end=\"url(#head)\" stroke=\"black\"></path><path d=\"M 130 10 C 120 20, 180 20, 170 10\" fill=\"transparent\" marker-end=\"url(#head)\" stroke=\"black\"></path><path d=\"M 10 60 C 20 80, 40 80, 50 60\" fill=\"transparent\" marker-end=\"url(#head)\" stroke=\"black\"></path><path d=\"M 70 60 C 70 80, 110 80, 110 60\" fill=\"transparent\" marker-end=\"url(#head)\" stroke=\"black\"></path><path d=\"M 130 60 C 120 80, 180 80, 170 60\" fill=\"transparent\" marker-end=\"url(#head)\" stroke=\"black\"></path><path d=\"M 10 110 C 20 140, 40 140, 50 110\" fill=\"transparent\" marker-end=\"url(#head)\" stroke=\"black\"></path><path d=\"M 70 110 C 70 140, 110 140, 110 110\" fill=\"transparent\" marker-end=\"url(#head)\" stroke=\"black\"></path><path d=\"M 130 110 C 120 140, 180 140, 170 110\" fill=\"transparent\" marker-end=\"url(#head)\" stroke=\"black\"></path><circle cx=\"140\" cy=\"140\" fill=\"black\" r=\"4\" stroke-width=\"4\" stroke=\"black\"></circle></svg>"
      ]
     },
     "execution_count": 43,
     "metadata": {},
     "output_type": "execute_result"
    }
   ],
   "source": [
    "(go)"
   ]
  }
 ],
 "metadata": {
  "kernelspec": {
   "display_name": "Clojure (clojupyter=0.2.3)",
   "language": "clojure",
   "name": "conda-clojupyter"
  },
  "language_info": {
   "file_extension": ".clj",
   "mimetype": "text/x-clojure",
   "name": "clojure",
   "version": "1.10.1"
  }
 },
 "nbformat": 4,
 "nbformat_minor": 4
}
