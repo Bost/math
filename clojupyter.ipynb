{
 "cells": [
  {
   "cell_type": "code",
   "execution_count": 7,
   "metadata": {
    "collapsed": true,
    "jupyter": {
     "outputs_hidden": true,
     "source_hidden": true
    }
   },
   "outputs": [
    {
     "name": "stderr",
     "output_type": "stream",
     "text": [
      "Syntax error compiling at (REPL:19:6).\n",
      "Unable to resolve symbol: go in this context\n"
     ]
    },
    {
     "ename": "class clojure.lang.Compiler$CompilerException",
     "evalue": "",
     "execution_count": 7,
     "output_type": "error",
     "status": "error",
     "traceback": [
      "  Util.java:   221 clojure.lang.Util/runtimeException                   ",
      "   core.clj:  3214 clojure.core$eval/invokeStatic                       ",
      "   core.clj:  3210 clojure.core$eval/invoke                             ",
      "   main.clj:   437 clojure.main$repl$read_eval_print__606$fn__609/invoke",
      "   main.clj:   458 clojure.main$repl$fn__615/invoke                     ",
      "   main.clj:   368 clojure.main$repl/doInvoke                           ",
      "RestFn.java:  1523 clojure.lang.RestFn/invoke                           ",
      "   AFn.java:    22 clojure.lang.AFn/run                                 ",
      "   AFn.java:    22 clojure.lang.AFn/run                                 ",
      "Thread.java:   745 java.lang.Thread/run                                 "
     ]
    }
   ],
   "source": [
    "(def elems [\n",
    "            #_{:M {:x 10 :y 10} :C \"20,20 40,20 50,10\"}\n",
    "            {:moveto {:x 10 :y 10}\n",
    "             :curveto {:control-point-beg {:x 20 :y 20}\n",
    "                       :control-point-end {:x 40 :y 20}\n",
    "                       :dst {:x 50 :y 10}}}])\n",
    "\n",
    "(defn zoom [{:keys [point dx dy] :or {dx 0 dy 0}}]\n",
    "  (-> point\n",
    "      (update :x (fn [x] (+ x dx)))\n",
    "      (update :y (fn [y] (+ y dy)))))\n",
    "\n",
    "#_(zoom {:point (:moveto e) :dx 20 :dy 10})\n",
    "\n",
    "(->> elems\n",
    "     (mapv (fn [e]\n",
    "             (update e :moveto (fn [point] (zoom {:point point :dx 20 :dy 10})))\n",
    "             ))\n",
    "     (go))\n"
   ]
  },
  {
   "cell_type": "code",
   "execution_count": 16,
   "metadata": {
    "jupyter": {
     "source_hidden": true
    }
   },
   "outputs": [
    {
     "name": "stderr",
     "output_type": "stream",
     "text": [
      "Execution error (FileNotFoundException) at ws-bra-1.utils/eval18142 (REPL:40).\n",
      "Could not locate ws_bra_1/core__init.class, ws_bra_1/core.clj or ws_bra_1/core.cljc on classpath. Please check that namespaces with dashes use underscores in the Clojure file name.\n",
      "Syntax error compiling at (REPL:42:1).\n",
      "Unable to resolve symbol: ring-cluster in this context\n"
     ]
    },
    {
     "ename": "class clojure.lang.Compiler$CompilerException",
     "evalue": "",
     "execution_count": 16,
     "output_type": "error",
     "status": "error",
     "traceback": [
      "  Util.java:   221 clojure.lang.Util/runtimeException                   ",
      "   core.clj:  3214 clojure.core$eval/invokeStatic                       ",
      "   core.clj:  3210 clojure.core$eval/invoke                             ",
      "   main.clj:   437 clojure.main$repl$read_eval_print__606$fn__609/invoke",
      "   main.clj:   458 clojure.main$repl$fn__615/invoke                     ",
      "   main.clj:   368 clojure.main$repl/doInvoke                           ",
      "RestFn.java:  1523 clojure.lang.RestFn/invoke                           ",
      "   AFn.java:    22 clojure.lang.AFn/run                                 ",
      "   AFn.java:    22 clojure.lang.AFn/run                                 ",
      "Thread.java:   745 java.lang.Thread/run                                 "
     ]
    }
   ],
   "source": [
    "(ns ws-bra-1.utils\n",
    "  (:require\n",
    "   [thi.ng.math.core :as m]\n",
    "   [thi.ng.geom.core :as g]\n",
    "   [thi.ng.geom.vector :as v :refer [vec2 vec3]]\n",
    "   [thi.ng.geom.matrix :as mat]\n",
    "   [thi.ng.geom.circle :refer [circle]]\n",
    "   [thi.ng.geom.polygon :refer [polygon2]]\n",
    "   [thi.ng.geom.line :as l]\n",
    "   [thi.ng.geom.bezier :as b]\n",
    "   [thi.ng.geom.path :as path]\n",
    "   [thi.ng.dstruct.core :as d]))\n",
    "\n",
    "(defn smooth-polygon\n",
    "  ([poly base amount]\n",
    "   (let [c      (g/centroid poly)\n",
    "         points (g/vertices poly)\n",
    "         points (d/wrap-seq points [(last points)] [(first points)])]\n",
    "     (->> points\n",
    "          (partition 3 1)\n",
    "          (map\n",
    "           (fn [[p q r]]\n",
    "             (-> (m/- p q)\n",
    "                 (m/+ (m/- r q))\n",
    "                 (m/+ (m/* (m/- q c) base))\n",
    "                 (m/* amount)\n",
    "                 (m/+ q))))\n",
    "          (polygon2))))\n",
    "  ([poly base amount iter]\n",
    "   (d/iterate-n iter #(smooth-polygon % base amount) poly)))\n",
    "\n",
    "(defn poly-as-linestrip\n",
    "  [poly]\n",
    "  (let [verts (g/vertices poly)]\n",
    "    (l/linestrip2 (conj verts (first verts)))))\n",
    "\n",
    "(defn shape-vertices-as-circles\n",
    "  [shape r] (map (fn [v] (circle v r)) (g/vertices shape)))\n",
    "\n",
    "(require 'ws-bra-1.core :reload)\n",
    "(in-ns 'ws-bra-1.core)\n",
    "(ring-cluster \"rings.svg\" [100 200 75 80])"
   ]
  }
 ],
 "metadata": {
  "kernelspec": {
   "display_name": "Clojure (clojupyter-logic)",
   "language": "clojure",
   "name": "clojupyter-logic"
  },
  "language_info": {
   "file_extension": ".clj",
   "mimetype": "text/x-clojure",
   "name": "clojure",
   "version": "1.10.1"
  }
 },
 "nbformat": 4,
 "nbformat_minor": 4
}
