{
 "cells": [
  {
   "cell_type": "code",
   "execution_count": 60,
   "metadata": {},
   "outputs": [
    {
     "data": {
      "text/plain": [
       "#'user/go"
      ]
     },
     "execution_count": 60,
     "metadata": {},
     "output_type": "execute_result"
    }
   ],
   "source": [
    "(defn dot-base [x y r]\n",
    "    [:circle {:cx x :cy y :r r :fill \"black\"\n",
    "              ;; :stroke \"black\" :stroke-width \"4\"\n",
    "              }])\n",
    "\n",
    "(defn dot [x y] (dot-base x y 4))\n",
    "(defn go []\n",
    ";; https://developer.mozilla.org/en-US/docs/Web/SVG/Tutorial/Paths\n",
    "(display/hiccup-html\n",
    " [:svg {:height 200 :width 200 :xmlns \"http://www.w3.org/2000/svg\"}\n",
    "        ;; [:path {:d \"M 0 0 C 0 -100 50 -100 50 0 S 100 100 100 0\" :stroke \"blue\" :fill \"transparent\" :transform \"translate(0 100)\"}]\n",
    "[:path {:d \"M 10 10 C 20 20, 40 20, 50 10\" :stroke \"black\" :fill \"transparent\"}]\n",
    "[:path {:d \"M 70 10 C 70 20, 120 20, 120 10\" :stroke \"black\" :fill \"transparent\"}]\n",
    "[:path {:d \"M 130 10 C 120 20, 180 20, 170 10\" :stroke \"black\" :fill \"transparent\"}]\n",
    "[:path {:d \"M 10 60 C 20 80, 40 80, 50 60\" :stroke \"black\" :fill \"transparent\"}]\n",
    "[:path {:d \"M 70 60 C 70 80, 110 80, 110 60\" :stroke \"black\" :fill \"transparent\"}]\n",
    "[:path {:d \"M 130 60 C 120 80, 180 80, 170 60\" :stroke \"black\" :fill \"transparent\"}]\n",
    "[:path {:d \"M 10 110 C 20 140, 40 140, 50 110\" :stroke \"black\" :fill \"transparent\"}]\n",
    "[:path {:d \"M 70 110 C 70 140, 110 140, 110 110\" :stroke \"black\" :fill \"transparent\"}]\n",
    "[:path {:d \"M 130 110 C 120 140, 180 140, 170 110\" :stroke \"black\" :fill \"transparent\"}]\n",
    "    (dot 140 100)      \n",
    "  ])\n",
    ")"
   ]
  }
 ],
 "metadata": {
  "kernelspec": {
   "display_name": "Clojure (clojupyter=0.2.3)",
   "language": "clojure",
   "name": "conda-clojupyter"
  },
  "language_info": {
   "file_extension": ".clj",
   "mimetype": "text/x-clojure",
   "name": "clojure",
   "version": "1.10.1"
  }
 },
 "nbformat": 4,
 "nbformat_minor": 4
}
