{
 "cells": [
  {
   "cell_type": "markdown",
   "metadata": {},
   "source": [
    "Tai-Danae Bradley https://www.math3ma.com/categories/category-theory\n",
    "\n",
    "# Category theory - an abstract algebra of abstract functions\n",
    "\"The Arrows Count\"; Category $C = (Obj, Hom, ◦, id)$  \n",
    "Category theory as a foundational framework of mathematics: the foundations of\n",
    "category theory itself have to be clarified yet\n",
    "- $Obj$ : Class of Objects: A, B, C, ... e.g. Types / Propositions /\n",
    "  Algebras / Logic Formulas  \n",
    "  An object exists in and depends upon an ambient category.  \n",
    "  An object is characterized by its morphisms going in and out of it.  \n",
    "  Objects are always characterized up to isomorphism (in the best cases, up to  \n",
    "  a unique isomorphism). E.g. there is no such thing as _the_ natural numbers.\n",
    "  However, the concept of natural numbers exists.  \n",
    "- $Hom$ : Morphisms (arrows): f, g, h, ... e.g. Computation / Proofs / ??? /\n",
    "  Implication between Logic Formulas\n",
    "- $◦$ : Morphism composition - associative function $(f ◦ g) ◦ h = f ◦ (g ◦ h)$  \n",
    "$Hom(A, B) × Hom(B, C) → Hom(A, C): g ◦ f$ ; it's a partialy binary\n",
    "operation on Mor(CAT::)  \n",
    "$(g ◦ f)(x) = g(f(x))$\n",
    "- $id$ : identity morphism on every object $A: id(A)$"
   ]
  },
  {
   "cell_type": "code",
   "execution_count": 12,
   "metadata": {},
   "outputs": [
    {
     "data": {
      "text/plain": [
       "3"
      ]
     },
     "execution_count": 12,
     "metadata": {},
     "output_type": "execute_result"
    }
   ],
   "source": [
    ";; test clojure\n",
    "(+ 1 2)"
   ]
  },
  {
   "cell_type": "code",
   "execution_count": 1,
   "metadata": {},
   "outputs": [
    {
     "data": {
      "text/plain": [
       "(true)"
      ]
     },
     "execution_count": 1,
     "metadata": {},
     "output_type": "execute_result"
    }
   ],
   "source": [
    ";; test clojure and logic\n",
    "(l/run* [q]\n",
    "  (l/== q true))"
   ]
  },
  {
   "cell_type": "code",
   "execution_count": 56,
   "metadata": {},
   "outputs": [
    {
     "data": {
      "text/html": [
       "<svg height=\"200\" transform=\"translate(10 10)\" width=\"200\" xmlns=\"http://www.w3.org/2000/svg\"><defs><marker id=\"head\" markerHeight=\"4\" markerWidth=\"2\" orient=\"auto\" refX=\"0.1\" refY=\"2\"></marker></defs><path d=\"m 10 10 C 20 20, 40 20, 110 10\" fill=\"transparent\" marker-end=\"url(#head)\" stroke=\"black\"></path></svg>"
      ]
     },
     "execution_count": 56,
     "metadata": {},
     "output_type": "execute_result"
    }
   ],
   "source": [
    ";; test svg\n",
    "    (defn dot-base [{:keys [x y r]}]\n",
    "      [:circle {:cx x :cy y :r r\n",
    "                :fill color\n",
    "                :stroke \"black\" :stroke-width \"4\"\n",
    "                }])\n",
    "\n",
    "    (def shift 10)\n",
    "\n",
    "    (defn dot [{:keys [x y] :as prm}] (dot-base {:x (+ x shift) :y (+ y shift) :r 4}))\n",
    "\n",
    "    (def x {:x 0 :y 0})\n",
    "    (def y {:x 100 :y 0})\n",
    "\n",
    "    (def dot-x (dot x))\n",
    "    (def dot-y (dot y))\n",
    "\n",
    "(->> \n",
    "    [(path (str \"m 10 10 C 20 20, 40 20, 110 10\"))]\n",
    "    ;;[dot-x dot-y]\n",
    "    ;; [[:path {:d \"M0,0 V4 L2,2 Z\" :fill \"black\"}]]\n",
    "    \n",
    "     (into [:svg\n",
    "            (conj {:xmlns \"http://www.w3.org/2000/svg\"}\n",
    "                  #_{:viewBox \"-50 -100 200 200\"}\n",
    "                  {:height 200 :width 200}\n",
    "                  {:transform \"translate(10 10)\"})\n",
    "            [:defs\n",
    "             [:marker {:id \"head\" :orient \"auto\" :markerWidth \"2\" :markerHeight \"4\"\n",
    "                       :refX \"0.1\" :refY \"2\"}\n",
    "              ;; triangle pointing right (+x)\n",
    "              #_[:path {:d \"M0,0 V4 L2,2 Z\" :fill \"black\"}]]]])\n",
    "     display/hiccup-html)\n",
    "\n"
   ]
  },
  {
   "cell_type": "markdown",
   "metadata": {},
   "source": []
  }
 ],
 "metadata": {
  "kernelspec": {
   "display_name": "Clojure (clojupyter-logic)",
   "language": "clojure",
   "name": "clojupyter-logic"
  },
  "language_info": {
   "file_extension": ".clj",
   "mimetype": "text/x-clojure",
   "name": "clojure",
   "version": "1.10.1"
  }
 },
 "nbformat": 4,
 "nbformat_minor": 4
}
